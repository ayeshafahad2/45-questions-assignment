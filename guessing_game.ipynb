{
  "nbformat": 4,
  "nbformat_minor": 0,
  "metadata": {
    "colab": {
      "provenance": [],
      "authorship_tag": "ABX9TyP+5NLBD3OPqRT6Ml9Zct7O",
      "include_colab_link": true
    },
    "kernelspec": {
      "name": "python3",
      "display_name": "Python 3"
    },
    "language_info": {
      "name": "python"
    }
  },
  "cells": [
    {
      "cell_type": "markdown",
      "metadata": {
        "id": "view-in-github",
        "colab_type": "text"
      },
      "source": [
        "<a href=\"https://colab.research.google.com/github/ayeshafahad2/45-questions-assignment/blob/main/guessing_game.ipynb\" target=\"_parent\"><img src=\"https://colab.research.google.com/assets/colab-badge.svg\" alt=\"Open In Colab\"/></a>"
      ]
    },
    {
      "cell_type": "code",
      "execution_count": null,
      "metadata": {
        "id": "1O_-vkVK6lIP"
      },
      "outputs": [],
      "source": [
        "                           Assalamu alaikum  , welcome to my Guessing Game"
      ]
    },
    {
      "cell_type": "code",
      "source": [
        "def get_hint(guess, target):\n",
        "    \"\"\"Provide hints based on how close the guess is to the target number.\"\"\"\n",
        "    difference = abs(target - guess)\n",
        "\n",
        "    if difference == 0:\n",
        "        return \"🎯 Spot on!\"\n",
        "    elif difference <= 3:\n",
        "        return \"🔥 Hot!\"\n",
        "    elif difference <= 7:\n",
        "        return \"🌡 Warm!\"\n",
        "    else:\n",
        "        return \"❄ Cold!\"\n",
        "\n",
        "def play_game():\n",
        "    while True:\n",
        "        print(\"\\n🎮 Welcome to the Advanced Number Guessing Game!\")\n",
        "        print(\"Choose difficulty level:\")\n",
        "        print(\"1️⃣ Easy (7 attempts)\" )\n",
        "        # - Number to guess: 60\"\n",
        "        print(\"2️⃣ Medium (5 attempts)\")\n",
        "        # - Number to guess: 75\n",
        "        print(\"3️⃣ Hard (3 attempts)\")\n",
        "        # - Number to guess: 90\n",
        "\n",
        "        difficulty = input(\"Enter your choice (1/2/3): \")\n",
        "\n",
        "        levels = {\"1\": (60, 7), \"2\": (75, 5), \"3\": (90, 3)}\n",
        "\n",
        "        if difficulty not in levels:\n",
        "            print(\"⚠ Invalid choice! Please select 1, 2, or 3.\")\n",
        "            continue\n",
        "\n",
        "        number_to_guess, attempts = levels[difficulty]\n",
        "\n",
        "        print(f\"\\n🎲 You have {attempts} attempts to guess the number.\")\n",
        "\n",
        "        guess_counter = 0\n",
        "\n",
        "        while guess_counter < attempts:\n",
        "            try:\n",
        "                my_guess = int(input(\"\\nEnter your guess (between 50-100): \"))\n",
        "\n",
        "                if my_guess < 50 or my_guess > 100:\n",
        "                    print(\"⚠ Please guess a number between 50 and 100!\")\n",
        "                    continue\n",
        "\n",
        "                guess_counter += 1\n",
        "                hint = get_hint(my_guess, number_to_guess)\n",
        "\n",
        "                if my_guess == number_to_guess:\n",
        "                    print(f\"🎉 Congratulations! You guessed the right number {number_to_guess} in {guess_counter} attempts! 🏆\")\n",
        "                    break\n",
        "                elif guess_counter == attempts:\n",
        "                    print(f\"😞 OOPS! You've used all your attempts. The correct number was {number_to_guess}. Better luck next time!\")\n",
        "                else:\n",
        "                    print(f\"{hint} Try again! ({attempts - guess_counter} attempts left)\")\n",
        "\n",
        "            except ValueError:\n",
        "                print(\"🚨 Invalid input! Please enter a valid number.\")\n",
        "\n",
        "        play_again = input(\"\\n🔄 Do you want to play again? (yes/no): \").strip().lower()\n",
        "        if play_again != \"yes\":\n",
        "            print(\"👋 Thanks for playing! See you next time!\")\n",
        "            break\n",
        "\n",
        "play_game()\n"
      ],
      "metadata": {
        "colab": {
          "base_uri": "https://localhost:8080/"
        },
        "id": "l9AsJ7Dp6yfm",
        "outputId": "d3494f0b-e0b0-421d-c8a8-1d810c8cfb5f"
      },
      "execution_count": 3,
      "outputs": [
        {
          "output_type": "stream",
          "name": "stdout",
          "text": [
            "\n",
            "🎮 Welcome to the Advanced Number Guessing Game!\n",
            "Choose difficulty level:\n",
            "1️⃣ Easy (7 attempts)\n",
            "2️⃣ Medium (5 attempts)\n",
            "3️⃣ Hard (3 attempts)\n",
            "Enter your choice (1/2/3): 2\n",
            "\n",
            "🎲 You have 5 attempts to guess the number.\n",
            "\n",
            "Enter your guess (between 50-100): 54\n",
            "❄ Cold! Try again! (4 attempts left)\n",
            "\n",
            "Enter your guess (between 50-100): 34\n",
            "⚠ Please guess a number between 50 and 100!\n",
            "\n",
            "Enter your guess (between 50-100): 60\n",
            "❄ Cold! Try again! (3 attempts left)\n",
            "\n",
            "Enter your guess (between 50-100): 99\n",
            "❄ Cold! Try again! (2 attempts left)\n",
            "\n",
            "Enter your guess (between 50-100): 75\n",
            "🎉 Congratulations! You guessed the right number 75 in 4 attempts! 🏆\n",
            "\n",
            "🔄 Do you want to play again? (yes/no): y\n",
            "👋 Thanks for playing! See you next time!\n"
          ]
        }
      ]
    },
    {
      "cell_type": "code",
      "source": [],
      "metadata": {
        "id": "DWXUt0eC8QBJ"
      },
      "execution_count": null,
      "outputs": []
    }
  ]
}